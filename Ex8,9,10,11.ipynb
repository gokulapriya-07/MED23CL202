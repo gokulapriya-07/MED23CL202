{
  "nbformat": 4,
  "nbformat_minor": 0,
  "metadata": {
    "colab": {
      "provenance": [],
      "authorship_tag": "ABX9TyPakaQf7piaO22GfGcrXN0U",
      "include_colab_link": true
    },
    "kernelspec": {
      "name": "python3",
      "display_name": "Python 3"
    },
    "language_info": {
      "name": "python"
    }
  },
  "cells": [
    {
      "cell_type": "markdown",
      "metadata": {
        "id": "view-in-github",
        "colab_type": "text"
      },
      "source": [
        "<a href=\"https://colab.research.google.com/github/gokulapriya-07/MED23CL202/blob/main/Ex8%2C9%2C10%2C11.ipynb\" target=\"_parent\"><img src=\"https://colab.research.google.com/assets/colab-badge.svg\" alt=\"Open In Colab\"/></a>"
      ]
    },
    {
      "cell_type": "markdown",
      "source": [
        "EX8:DATA ABSTRACTION"
      ],
      "metadata": {
        "id": "BRrGPZUa3ncM"
      }
    },
    {
      "cell_type": "code",
      "execution_count": 2,
      "metadata": {
        "colab": {
          "base_uri": "https://localhost:8080/"
        },
        "id": "dqfKXLnD0nee",
        "outputId": "9bf69df5-281d-409d-c09e-a63b4a7290f3"
      },
      "outputs": [
        {
          "output_type": "stream",
          "name": "stdout",
          "text": [
            "coffee is ready\n"
          ]
        }
      ],
      "source": [
        "class CoffeeMachine:\n",
        "  def __init__(self):\n",
        "    self.water=100\n",
        "\n",
        "  def make_coffee(self):\n",
        "    if self.water>=10:\n",
        "      self.water-=10\n",
        "      print(\"coffee is ready\")\n",
        "    else:\n",
        "      print(\"Not enough water to make coffee\")\n",
        "\n",
        "machine=CoffeeMachine()\n",
        "machine.make_coffee()"
      ]
    },
    {
      "cell_type": "markdown",
      "source": [
        "EX9 : DATA ENCAPSULATION"
      ],
      "metadata": {
        "id": "T_2EAJfN6IU7"
      }
    },
    {
      "cell_type": "code",
      "source": [
        "class BankAccount:\n",
        "  def __init__(self):\n",
        "    self.balance=0\n",
        "  def set_balance(self,amount):\n",
        "    self.balance=amount\n",
        "  def get_balance(self):\n",
        "    return self.balance\n",
        "\n",
        "account=BankAccount()\n",
        "account.set_balance(1000)\n",
        "print(\"account balance\",account.get_balance())"
      ],
      "metadata": {
        "colab": {
          "base_uri": "https://localhost:8080/"
        },
        "id": "t94driZV6MXi",
        "outputId": "d43405eb-c0ba-41f4-e1cf-cd27cf066f01"
      },
      "execution_count": 4,
      "outputs": [
        {
          "output_type": "stream",
          "name": "stdout",
          "text": [
            "account balance 1000\n"
          ]
        }
      ]
    },
    {
      "cell_type": "markdown",
      "source": [
        "EX10:INHERITANCE"
      ],
      "metadata": {
        "id": "jCt3SuRW7CC7"
      }
    },
    {
      "cell_type": "code",
      "source": [
        "#passing a features from one class(parent) to another(child) --single inheritance\n",
        "#chain of inheritance is called multilevel inheritance (grandparent-parent-child-grandchild)\n",
        "\n",
        "#Multilevel inheritance\n",
        "\n",
        "class Animal:\n",
        "  def move(self):\n",
        "    print(\"Animal moves\")\n",
        "\n",
        "class Bird(Animal):\n",
        "  def fly(self):\n",
        "    print(\"Bird flies\")\n",
        "\n",
        "class Parrot(Bird):\n",
        "  def talk(self):\n",
        "    print(\"Parrot talks\")\n",
        "\n",
        "parrot=Parrot()\n",
        "parrot.move()\n",
        "parrot.fly()\n",
        "parrot.talk()"
      ],
      "metadata": {
        "colab": {
          "base_uri": "https://localhost:8080/"
        },
        "id": "fGfE_JJb7HUj",
        "outputId": "6942c8c8-1cec-406b-bd88-323eedf2a406"
      },
      "execution_count": 7,
      "outputs": [
        {
          "output_type": "stream",
          "name": "stdout",
          "text": [
            "Animal moves\n",
            "Bird flies\n",
            "Parrot talks\n"
          ]
        }
      ]
    },
    {
      "cell_type": "code",
      "source": [
        "#single level inheritance\n",
        "class Bird:\n",
        "  def fly(self):\n",
        "    print(\"Bird flies\")\n",
        "\n",
        "class Peacock(Bird):\n",
        "  def dance(self):\n",
        "    print(\"Peacock dances\")\n",
        "\n",
        "peacock = Peacock()\n",
        "peacock.fly()\n",
        "peacock.dance()"
      ],
      "metadata": {
        "colab": {
          "base_uri": "https://localhost:8080/"
        },
        "id": "TIF0kBOB-4v6",
        "outputId": "725deb92-7a0d-49ea-f534-5856dad9fdeb"
      },
      "execution_count": 14,
      "outputs": [
        {
          "output_type": "stream",
          "name": "stdout",
          "text": [
            "Bird flies\n",
            "Peacock dances\n"
          ]
        }
      ]
    },
    {
      "cell_type": "markdown",
      "source": [
        "EX11:POLYMORPHISM"
      ],
      "metadata": {
        "id": "Mb0jekgk_upy"
      }
    },
    {
      "cell_type": "code",
      "source": [
        "#same function that behaves diffently for diff clasees\n",
        "class Cat:\n",
        "  def sound(self):\n",
        "    print(\"meow\")\n",
        "\n",
        "class Dog:\n",
        "  def sound(self):\n",
        "    print(\"bark\")\n",
        "\n",
        "def make_sound(animal):\n",
        "  animal.sound()\n",
        "\n",
        "cat=Cat()\n",
        "dog=Dog()\n",
        "\n",
        "make_sound(cat)\n",
        "make_sound(dog)"
      ],
      "metadata": {
        "colab": {
          "base_uri": "https://localhost:8080/"
        },
        "id": "vf6L4U9h_rCC",
        "outputId": "e119fbb5-2955-4a4a-d375-8805c6cfff6b"
      },
      "execution_count": 20,
      "outputs": [
        {
          "output_type": "stream",
          "name": "stdout",
          "text": [
            "meow\n",
            "bark\n"
          ]
        }
      ]
    }
  ]
}