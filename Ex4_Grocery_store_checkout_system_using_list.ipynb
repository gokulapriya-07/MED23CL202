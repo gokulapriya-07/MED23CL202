{
  "nbformat": 4,
  "nbformat_minor": 0,
  "metadata": {
    "colab": {
      "provenance": [],
      "authorship_tag": "ABX9TyNJR3p9oWkTuPnF7kcDx3sh",
      "include_colab_link": true
    },
    "kernelspec": {
      "name": "python3",
      "display_name": "Python 3"
    },
    "language_info": {
      "name": "python"
    }
  },
  "cells": [
    {
      "cell_type": "markdown",
      "metadata": {
        "id": "view-in-github",
        "colab_type": "text"
      },
      "source": [
        "<a href=\"https://colab.research.google.com/github/gokulapriya-07/MED23CL202/blob/main/Ex4_Grocery_store_checkout_system_using_list.ipynb\" target=\"_parent\"><img src=\"https://colab.research.google.com/assets/colab-badge.svg\" alt=\"Open In Colab\"/></a>"
      ]
    },
    {
      "cell_type": "code",
      "source": [
        "Grocery Store Checkout System Using Lists"
      ],
      "metadata": {
        "id": "2im2_VFrvXCN"
      },
      "execution_count": null,
      "outputs": []
    },
    {
      "cell_type": "code",
      "execution_count": 31,
      "metadata": {
        "colab": {
          "base_uri": "https://localhost:8080/",
          "height": 349
        },
        "id": "zJWxOSFCvIoM",
        "outputId": "950ea5bd-8c79-4471-9eb2-4d0c6c3bbcbd"
      },
      "outputs": [
        {
          "name": "stdout",
          "output_type": "stream",
          "text": [
            "\n",
            "=== Grocery Store Store Menu ===\n",
            "1.show products\n",
            "2.Add to cart\n",
            "3.Remove from cart\n",
            "4.View cart\n",
            "5.Checkout and Exit\n",
            "Enter your choice: 1\n"
          ]
        },
        {
          "output_type": "error",
          "ename": "NameError",
          "evalue": "name 'show_products' is not defined",
          "traceback": [
            "\u001b[0;31m---------------------------------------------------------------------------\u001b[0m",
            "\u001b[0;31mNameError\u001b[0m                                 Traceback (most recent call last)",
            "\u001b[0;32m/tmp/ipython-input-420051720.py\u001b[0m in \u001b[0;36m<cell line: 0>\u001b[0;34m()\u001b[0m\n\u001b[1;32m     10\u001b[0m \u001b[0;34m\u001b[0m\u001b[0m\n\u001b[1;32m     11\u001b[0m   \u001b[0;32mif\u001b[0m \u001b[0mchoice\u001b[0m \u001b[0;34m==\u001b[0m \u001b[0;34m\"1\"\u001b[0m\u001b[0;34m:\u001b[0m\u001b[0;34m\u001b[0m\u001b[0;34m\u001b[0m\u001b[0m\n\u001b[0;32m---> 12\u001b[0;31m     \u001b[0mshow_products\u001b[0m\u001b[0;34m(\u001b[0m\u001b[0;34m)\u001b[0m\u001b[0;34m\u001b[0m\u001b[0;34m\u001b[0m\u001b[0m\n\u001b[0m\u001b[1;32m     13\u001b[0m   \u001b[0;32melif\u001b[0m \u001b[0mchoice\u001b[0m \u001b[0;34m==\u001b[0m \u001b[0;34m\"2\"\u001b[0m\u001b[0;34m:\u001b[0m\u001b[0;34m\u001b[0m\u001b[0;34m\u001b[0m\u001b[0m\n\u001b[1;32m     14\u001b[0m     \u001b[0madd_to_cart\u001b[0m\u001b[0;34m(\u001b[0m\u001b[0;34m)\u001b[0m\u001b[0;34m\u001b[0m\u001b[0;34m\u001b[0m\u001b[0m\n",
            "\u001b[0;31mNameError\u001b[0m: name 'show_products' is not defined"
          ]
        }
      ],
      "source": [
        "while True:\n",
        "  print(\"\\n=== Grocery Store Store Menu ===\")\n",
        "  print(\"1.show products\")\n",
        "  print(\"2.Add to cart\")\n",
        "  print(\"3.Remove from cart\")\n",
        "  print(\"4.View cart\")\n",
        "  print(\"5.Checkout and Exit\")\n",
        "\n",
        "  choice = input(\"Enter your choice: \")\n",
        "\n",
        "  if choice == \"1\":\n",
        "    show_products()\n",
        "  elif choice == \"2\":\n",
        "    add_to_cart()\n",
        "  elif choice == \"3\":\n",
        "    remove_from_cart()\n",
        "  elif choice == \"4\":\n",
        "    show_cart()\n",
        "  elif choice == \"5\":\n",
        "    #show_cart()\n",
        "    print(\"Thankyou for shopping!\")\n",
        "    break\n",
        "  else:\n",
        "    print(\"Invalid choice. Please try again.\")\n"
      ]
    },
    {
      "cell_type": "code",
      "source": [
        "#step1: avaliable products and prices\n",
        "products = [\"milk\",\"coffee powder\",\"sugar\",\"Biscuits\",\"chocolates\",\"cheese\"]\n",
        "cost = [\"32.50\",\"10.00\",\"36.25\",\"20.00\",\"15.00\",\"80.50\"]\n",
        "\n",
        "#step2: define a cart:EMPTY\n",
        "cart = []\n",
        "\n",
        "#step3: display the menu\n",
        "def show_product():\n",
        "  print(\"\\n The Avaliable Products\")\n",
        "  for i , item in enumerate(products):\n",
        "    print(f\"{i+1}.{item} - ${cost[i]}\")\n",
        "show_product()\n"
      ],
      "metadata": {
        "colab": {
          "base_uri": "https://localhost:8080/"
        },
        "id": "BeuEGSAixkXd",
        "outputId": "cd00e637-88d1-4a8c-bf1a-010dce0e0ff2"
      },
      "execution_count": 18,
      "outputs": [
        {
          "output_type": "stream",
          "name": "stdout",
          "text": [
            "\n",
            " The Avaliable Products\n",
            "1.milk - $32.50\n",
            "2.coffee powder - $10.00\n",
            "3.sugar - $36.25\n",
            "4.Biscuits - $20.00\n",
            "5.chocolates - $15.00\n",
            "6.cheese - $80.50\n"
          ]
        }
      ]
    },
    {
      "cell_type": "code",
      "source": [
        "#step4: add item to cart\n",
        "def add_to_cart():\n",
        "  show_product()\n",
        "  choice = int(input(\"Enter the number of the product you want to add to cart: \"))\n",
        "  if 0 <= choice <= len(products): #condition to check whether the item is avaliable\n",
        "    cart.append(choice)\n",
        "    print(f\"{products[choice-1]} has been added to the cart.\")\n",
        "  else:\n",
        "    print(\"Invalid choice. Please try again.\")\n",
        "add_to_cart()"
      ],
      "metadata": {
        "colab": {
          "base_uri": "https://localhost:8080/"
        },
        "id": "ZJ1iOj1b0WtA",
        "outputId": "c50b46d2-6ac7-4a2f-8e5b-8b3d8ef35990"
      },
      "execution_count": 19,
      "outputs": [
        {
          "output_type": "stream",
          "name": "stdout",
          "text": [
            "\n",
            " The Avaliable Products\n",
            "1.milk - $32.50\n",
            "2.coffee powder - $10.00\n",
            "3.sugar - $36.25\n",
            "4.Biscuits - $20.00\n",
            "5.chocolates - $15.00\n",
            "6.cheese - $80.50\n",
            "Enter the number of the product you want to add to cart: 3\n",
            "sugar has been added to the cart.\n"
          ]
        }
      ]
    },
    {
      "cell_type": "code",
      "source": [
        "def show_cart():\n",
        "  if not cart:\n",
        "    print(\"Your cart is empty.\")\n",
        "    return\n",
        "  print(\"\\nYour Cart:\")\n",
        "  total = 0 # Initialize total\n",
        "  for i, idx in enumerate(cart):\n",
        "    print(f\"{i+1}.{products[idx-1]} - ${cost[idx-1]}\") # Corrected indexing\n",
        "    total += float(cost[idx-1]) # Corrected indexing and conversion to float\n",
        "  print(f\"Total: ${total:.2f}\")"
      ],
      "metadata": {
        "id": "-keh1I-k29ya"
      },
      "execution_count": 20,
      "outputs": []
    },
    {
      "cell_type": "code",
      "source": [
        "#step5 : remove item from the cart\n",
        "def remove_from_cart():\n",
        "  if not cart:\n",
        "    print(\"Your cart is empty.\")\n",
        "    return\n",
        "  show_cart()\n",
        "  choice = int(input(\"Enter the number of the product you want to remove from cart: \"))\n",
        "  if 1 <= choice <= len(cart): # Condition to check if the choice is within the valid range of items in the displayed cart\n",
        "    removed_product_index = cart.pop(choice - 1)\n",
        "    print(f\"{products[removed_product_index - 1]} has been removed from the cart.\")\n",
        "  else:\n",
        "    print(\"Invalid choice. Please try again.\")"
      ],
      "metadata": {
        "id": "xfT8afIy1NQH"
      },
      "execution_count": 30,
      "outputs": []
    }
  ]
}