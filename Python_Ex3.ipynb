{
  "nbformat": 4,
  "nbformat_minor": 0,
  "metadata": {
    "colab": {
      "provenance": [],
      "include_colab_link": true
    },
    "kernelspec": {
      "name": "python3",
      "display_name": "Python 3"
    },
    "language_info": {
      "name": "python"
    }
  },
  "cells": [
    {
      "cell_type": "markdown",
      "metadata": {
        "id": "view-in-github",
        "colab_type": "text"
      },
      "source": [
        "<a href=\"https://colab.research.google.com/github/gokulapriya-07/MED23CL202/blob/main/Python_Ex3.ipynb\" target=\"_parent\"><img src=\"https://colab.research.google.com/assets/colab-badge.svg\" alt=\"Open In Colab\"/></a>"
      ]
    },
    {
      "cell_type": "markdown",
      "source": [
        "steps:\n",
        " 1.create empty result list\n",
        " 2."
      ],
      "metadata": {
        "id": "01OEbBRIel3F"
      }
    },
    {
      "cell_type": "code",
      "execution_count": null,
      "metadata": {
        "colab": {
          "base_uri": "https://localhost:8080/"
        },
        "id": "CUdWFh1Reio0",
        "outputId": "8892a864-94a3-44c9-f887-9e3b270cff35"
      },
      "outputs": [
        {
          "output_type": "stream",
          "name": "stdout",
          "text": [
            "[10, 30, 35, 36]\n"
          ]
        }
      ],
      "source": [
        "#running sum\n",
        "def runningSum(nums):\n",
        "  result=[]\n",
        "  total=0\n",
        "  for i in nums:\n",
        "    total+=i\n",
        "    result.append(total)\n",
        "  return result\n",
        "\n",
        "print(runningSum([10,20,5,1]))"
      ]
    },
    {
      "cell_type": "code",
      "source": [
        "def Sum(nums):\n",
        "    total = 0\n",
        "    for i in nums:\n",
        "        total+=i\n",
        "    return total\n",
        "\n",
        "print(totalSum([10, 20, 5, 1]))\n"
      ],
      "metadata": {
        "colab": {
          "base_uri": "https://localhost:8080/"
        },
        "id": "rdj2jRQnffwm",
        "outputId": "863b2e5a-e93d-41e6-e374-433bf4dc1e22"
      },
      "execution_count": null,
      "outputs": [
        {
          "output_type": "stream",
          "name": "stdout",
          "text": [
            "36\n"
          ]
        }
      ]
    },
    {
      "cell_type": "markdown",
      "source": [
        "count even number in a list\n",
        "\n",
        "count even numbers:\n",
        "\n",
        "sample input:(3,7,2,9,5)\n",
        "\n",
        "expected output:1"
      ],
      "metadata": {
        "id": "YgwRtC3Aii_8"
      }
    },
    {
      "cell_type": "code",
      "source": [
        "def CountEven(nums):\n",
        "  count=0\n",
        "  for n in nums:\n",
        "    if n%2==0:\n",
        "      count+=1\n",
        "  return count\n",
        "\n",
        "print(CountEven([3,7,2,9,5]))\n"
      ],
      "metadata": {
        "colab": {
          "base_uri": "https://localhost:8080/"
        },
        "id": "YGPIjtulhbMr",
        "outputId": "36f9b345-ffaa-4aa9-c8f7-1cf4252db0d3"
      },
      "execution_count": null,
      "outputs": [
        {
          "output_type": "stream",
          "name": "stdout",
          "text": [
            "1\n"
          ]
        }
      ]
    },
    {
      "cell_type": "markdown",
      "source": [
        "reversing a list"
      ],
      "metadata": {
        "id": "0oG0DAAWk01t"
      }
    },
    {
      "cell_type": "code",
      "source": [
        "#reverse a list\n",
        "def reverseList(nums):\n",
        "  return nums[::-1]\n",
        "print(reverseList([1,2,3,4]))\n",
        "\n",
        "#slicing a list\n",
        "my_list=[10,5,1,0,-67]\n",
        "print(my_list[::2])#the list slices from begnning to end, taking every second element\n",
        "print(my_list[::4])\n",
        "print(my_list[::-4])\n",
        "print(my_list[::-2])"
      ],
      "metadata": {
        "colab": {
          "base_uri": "https://localhost:8080/"
        },
        "id": "zCvWcsGajVte",
        "outputId": "57e95aed-cb0e-4dcc-c576-b0a5a4801ea0"
      },
      "execution_count": null,
      "outputs": [
        {
          "output_type": "stream",
          "name": "stdout",
          "text": [
            "[4, 3, 2, 1]\n",
            "[10, 1, -67]\n",
            "[10, -67]\n",
            "[-67, 10]\n",
            "[-67, 1, 10]\n"
          ]
        }
      ]
    },
    {
      "cell_type": "markdown",
      "source": [
        "Maximun number in a list"
      ],
      "metadata": {
        "id": "0moOGf3ZoAoW"
      }
    },
    {
      "cell_type": "code",
      "source": [
        "def FindMax(nums):\n",
        "  max_num=nums[0]\n",
        "  for n in nums:\n",
        "    if n>max_num:\n",
        "      max_num=n\n",
        "  return max_num\n",
        "\n",
        "print(FindMax([3,7,2,9,5]))"
      ],
      "metadata": {
        "colab": {
          "base_uri": "https://localhost:8080/"
        },
        "id": "d6lHv3FIlPlv",
        "outputId": "fc364494-9cd6-4d83-8b76-40aeee8fa872"
      },
      "execution_count": null,
      "outputs": [
        {
          "output_type": "stream",
          "name": "stdout",
          "text": [
            "9\n"
          ]
        }
      ]
    },
    {
      "cell_type": "markdown",
      "source": [
        "minimum number in a list"
      ],
      "metadata": {
        "id": "9zmdVgNDotRa"
      }
    },
    {
      "cell_type": "code",
      "source": [
        "def FindMin(nums):\n",
        "  min_num=nums[0]\n",
        "  for n in nums:\n",
        "    if n<min_num:\n",
        "      min_num=n\n",
        "  return min_num\n",
        "\n",
        "print(FindMin([3,7,2,9,5]))\n",
        "\n"
      ],
      "metadata": {
        "colab": {
          "base_uri": "https://localhost:8080/"
        },
        "id": "sjD2SOJxogqY",
        "outputId": "d4039465-35de-4b25-a604-c702ab43d1bf"
      },
      "execution_count": null,
      "outputs": [
        {
          "output_type": "stream",
          "name": "stdout",
          "text": [
            "2\n"
          ]
        }
      ]
    },
    {
      "cell_type": "markdown",
      "source": [
        "Merge two sorted list\n",
        "\n",
        "input [1,3,5],[2,4,6]\n",
        "\n",
        "output : [1,2,3,4,5,6]"
      ],
      "metadata": {
        "id": "MNhJTMFGqX0h"
      }
    },
    {
      "cell_type": "code",
      "source": [
        "def merge_list(list1,list2):\n",
        "  return sorted(list1+list2)\n",
        "\n",
        "print(merge_list([1,3,5],[2,4,6]))\n"
      ],
      "metadata": {
        "colab": {
          "base_uri": "https://localhost:8080/"
        },
        "id": "bFlbD6wqpC3q",
        "outputId": "1d20039c-3133-4fb6-9cf6-e22186a57c2f"
      },
      "execution_count": null,
      "outputs": [
        {
          "output_type": "stream",
          "name": "stdout",
          "text": [
            "[1, 2, 3, 4, 5, 6]\n"
          ]
        }
      ]
    },
    {
      "cell_type": "markdown",
      "source": [
        "Square of a sorted list"
      ],
      "metadata": {
        "id": "P_nUxRDmsN5B"
      }
    },
    {
      "cell_type": "code",
      "source": [
        "def SortedSquare(nums):\n",
        "  return sorted([x**2 for x in nums])\n",
        "  #list comprehension , define the logic in that list itself\n",
        " #defines a list based on iteratable that is x**2 for x in nums -> is defined to find the square of elements in a sorted list\n",
        "\n",
        "print(SortedSquare([-4,-1,0,3,50]))\n"
      ],
      "metadata": {
        "colab": {
          "base_uri": "https://localhost:8080/"
        },
        "id": "8XZfpbL2rkks",
        "outputId": "749d72cd-cb9d-4112-c3a5-f427babcf764"
      },
      "execution_count": null,
      "outputs": [
        {
          "output_type": "stream",
          "name": "stdout",
          "text": [
            "[0, 1, 9, 16, 2500]\n"
          ]
        }
      ]
    },
    {
      "cell_type": "markdown",
      "source": [
        "two dimensional list\n",
        "\n",
        "input:[ [100,52],[3,60] ]\n",
        "\n",
        "output:152"
      ],
      "metadata": {
        "id": "AagG3HNLukRt"
      }
    },
    {
      "cell_type": "code",
      "source": [
        "def MaxDeposit(account):\n",
        "  return max(sum(cust)for cust in account)\n",
        "print(MaxDeposit([[100,52],[3,60]]))"
      ],
      "metadata": {
        "colab": {
          "base_uri": "https://localhost:8080/"
        },
        "id": "M4fHfW-rsvTI",
        "outputId": "c90d1e34-e4c0-4645-ef73-04c2e2c4c50a"
      },
      "execution_count": null,
      "outputs": [
        {
          "output_type": "stream",
          "name": "stdout",
          "text": [
            "152\n"
          ]
        }
      ]
    },
    {
      "cell_type": "markdown",
      "source": [
        "add two indices\n",
        "\n",
        "input:[2,7,11,15] num=26\n",
        "\n",
        "output:[2,3]"
      ],
      "metadata": {
        "id": "7tGTMEaiwltB"
      }
    },
    {
      "cell_type": "code",
      "source": [
        "def twoSum(nums,target):\n",
        "  #define a dictionary , a key value pair\n",
        "  seen={}\n",
        "  for i,n in enumerate(nums):\n",
        "    diff=target-n\n",
        "    if diff in seen:\n",
        "      return [seen[diff],i]\n",
        "    seen[n]=i\n",
        "    print(seen)\n",
        "\n",
        "print(twoSum([2,7,11,15],26))"
      ],
      "metadata": {
        "colab": {
          "base_uri": "https://localhost:8080/"
        },
        "id": "33H8klbDvSsy",
        "outputId": "1b0e1809-ee86-4e49-a221-29b44e5193b5"
      },
      "execution_count": null,
      "outputs": [
        {
          "output_type": "stream",
          "name": "stdout",
          "text": [
            "{2: 0}\n",
            "{2: 0, 7: 1}\n",
            "{2: 0, 7: 1, 11: 2}\n",
            "[2, 3]\n"
          ]
        }
      ]
    },
    {
      "cell_type": "code",
      "source": [],
      "metadata": {
        "id": "mollv7vmxmv3"
      },
      "execution_count": null,
      "outputs": []
    }
  ]
}