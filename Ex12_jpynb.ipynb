{
  "nbformat": 4,
  "nbformat_minor": 0,
  "metadata": {
    "colab": {
      "provenance": [],
      "authorship_tag": "ABX9TyNL139nfgxW3cr70ZscK9p7",
      "include_colab_link": true
    },
    "kernelspec": {
      "name": "python3",
      "display_name": "Python 3"
    },
    "language_info": {
      "name": "python"
    }
  },
  "cells": [
    {
      "cell_type": "markdown",
      "metadata": {
        "id": "view-in-github",
        "colab_type": "text"
      },
      "source": [
        "<a href=\"https://colab.research.google.com/github/gokulapriya-07/MED23CL202/blob/main/Ex12_jpynb.ipynb\" target=\"_parent\"><img src=\"https://colab.research.google.com/assets/colab-badge.svg\" alt=\"Open In Colab\"/></a>"
      ]
    },
    {
      "cell_type": "markdown",
      "source": [
        "FILE READING"
      ],
      "metadata": {
        "id": "h-RYzKd0y3cG"
      }
    },
    {
      "cell_type": "code",
      "source": [
        "#reading entire file\n",
        "file_path=r\"/content/hi.txt\"\n",
        "print(\"Read entire file\")\n",
        "with open(file_path,\"r\") as file:\n",
        "    content=file.read()\n",
        "    print(content)"
      ],
      "metadata": {
        "colab": {
          "base_uri": "https://localhost:8080/"
        },
        "id": "ltlNl6Cm6DYF",
        "outputId": "926a610a-a1b2-453c-d6db-1d6f91cf321c"
      },
      "execution_count": 26,
      "outputs": [
        {
          "output_type": "stream",
          "name": "stdout",
          "text": [
            "Read entire file\n",
            "Python is a high-level, \n",
            "simplicity,\n",
            "readability,\n",
            "versatility.\n",
            "\n"
          ]
        }
      ]
    },
    {
      "cell_type": "code",
      "source": [
        "#reading line by line\n",
        "file_path=r\"/content/hi.txt\"\n",
        "print(\"===Read line by line\")\n",
        "with open(file_path,\"r\") as file:\n",
        "  for line in file:\n",
        "    print(\"line from files :\",line.strip())"
      ],
      "metadata": {
        "colab": {
          "base_uri": "https://localhost:8080/"
        },
        "id": "u5ej4WJT7J31",
        "outputId": "6aedc8cb-927f-4c81-b903-69a70ba0ae01"
      },
      "execution_count": 25,
      "outputs": [
        {
          "output_type": "stream",
          "name": "stdout",
          "text": [
            "===Read line by line\n",
            "line from files : Python is a high-level,\n",
            "line from files : simplicity,\n",
            "line from files : readability,\n",
            "line from files : versatility.\n"
          ]
        }
      ]
    },
    {
      "cell_type": "code",
      "source": [
        "#reading specific characters\n",
        "file_path=r\"/content/hi.txt\"\n",
        "print(\"===Read specific characters\")\n",
        "with open(file_path,\"r\") as file:\n",
        "  print(\"for 10 characters in first line\")\n",
        "  line=file.readline(10)\n",
        "  print(line)\n",
        "  print(\"for 10 characters in second line\")\n",
        "  line=file.readline(10)\n",
        "  print(line)"
      ],
      "metadata": {
        "colab": {
          "base_uri": "https://localhost:8080/"
        },
        "id": "V_7CNb_s_2lU",
        "outputId": "c5d48663-f17f-476b-c08c-63ff510e2230"
      },
      "execution_count": 42,
      "outputs": [
        {
          "output_type": "stream",
          "name": "stdout",
          "text": [
            "===Read specific characters\n",
            "for 10 characters in first line\n",
            "python is \n",
            "for 10 characters in second line\n",
            "easy langu\n"
          ]
        }
      ]
    },
    {
      "cell_type": "markdown",
      "source": [
        "FILE WRITING"
      ],
      "metadata": {
        "id": "zhLIrZuDAQo9"
      }
    },
    {
      "cell_type": "code",
      "source": [
        "#adding new line\n",
        "file_path=r\"/content/hi.txt\"\n",
        "with open(file_path,\"a\") as file:\n",
        "  file.write(\"Python makes file writing easy\")\n",
        "  print(\"New line appended successfully\")\n"
      ],
      "metadata": {
        "colab": {
          "base_uri": "https://localhost:8080/"
        },
        "id": "c1I17eMNAJWO",
        "outputId": "7ba0a8cc-1788-4da8-ec21-6262ec827b7f"
      },
      "execution_count": 33,
      "outputs": [
        {
          "output_type": "stream",
          "name": "stdout",
          "text": [
            "New line appended successfully\n"
          ]
        }
      ]
    },
    {
      "cell_type": "code",
      "source": [
        "#adding multiple line\n",
        "file_path=r\"/content/hi.txt\"\n",
        "lines={\n",
        "    \"Line1\": \"python is easy language\\n\",\n",
        "    \"Line2\": \"File writing\\n\",\n",
        "    \"Line3\": \"File reading\\n\"\n",
        "}\n",
        "with open(file_path,\"w\") as file:\n",
        "  for line in lines.values():\n",
        "    file.write(line)"
      ],
      "metadata": {
        "id": "Ztf-mbQxC5em"
      },
      "execution_count": 40,
      "outputs": []
    }
  ]
}